{
  "nbformat": 4,
  "nbformat_minor": 0,
  "metadata": {
    "colab": {
      "name": "concept_sentiment.ipynb",
      "provenance": [],
      "toc_visible": true,
      "include_colab_link": true
    },
    "kernelspec": {
      "name": "python3",
      "display_name": "Python 3"
    }
  },
  "cells": [
    {
      "cell_type": "markdown",
      "metadata": {
        "id": "view-in-github",
        "colab_type": "text"
      },
      "source": [
        "<a href=\"https://colab.research.google.com/github/snsamia/Concept_Level_Sentiment_Analysis/blob/main/concept_sentiment.ipynb\" target=\"_parent\"><img src=\"https://colab.research.google.com/assets/colab-badge.svg\" alt=\"Open In Colab\"/></a>"
      ]
    },
    {
      "cell_type": "code",
      "metadata": {
        "id": "K8oSOc20SfJ8"
      },
      "source": [
        "import pandas as pd\n",
        "import numpy as np\n",
        "import matplotlib.pyplot as plt"
      ],
      "execution_count": 1,
      "outputs": []
    },
    {
      "cell_type": "code",
      "metadata": {
        "id": "N_zyEWGNXNgJ"
      },
      "source": [
        "import numpy as np\n",
        "\n",
        "\n",
        "def plot_confusion_matrix(cm,\n",
        "                          target_names,\n",
        "                          title='Confusion matrix',\n",
        "                          cmap=None,\n",
        "                          normalize=True):\n",
        "   \n",
        "    import matplotlib.pyplot as plt\n",
        "    import numpy as np\n",
        "    import itertools\n",
        "\n",
        "    accuracy = np.trace(cm) / float(np.sum(cm))\n",
        "    misclass = 1 - accuracy\n",
        "\n",
        "    if cmap is None:\n",
        "      cmap = plt.get_cmap('Blues')\n",
        "    \n",
        "    plt.figure(figsize=(8, 6))\n",
        "    plt.imshow(cm, interpolation='nearest', cmap=cmap)\n",
        "    plt.title(title)\n",
        "    plt.colorbar()\n",
        "\n",
        "    if target_names is not None:\n",
        "        tick_marks = np.arange(len(target_names))\n",
        "        plt.xticks(tick_marks, target_names, rotation=45)\n",
        "        plt.yticks(tick_marks, target_names)\n",
        "\n",
        "    if normalize:\n",
        "      cm = cm.astype('float') / cm.sum(axis=1)[:, np.newaxis]\n",
        "\n",
        "        \n",
        "    thresh = cm.max() / 1.5 if normalize else cm.max() / 2\n",
        "    for i, j in itertools.product(range(cm.shape[0]), range(cm.shape[1])):\n",
        "        if normalize:\n",
        "            plt.text(j, i, \"{:0.4f}\".format(cm[i, j]),\n",
        "                     horizontalalignment=\"center\",\n",
        "                     color=\"white\" if cm[i, j] > thresh else \"black\")\n",
        "        else:\n",
        "            plt.text(j, i, \"{:,}\".format(cm[i, j]),\n",
        "                     horizontalalignment=\"center\",\n",
        "                     color=\"white\" if cm[i, j] > thresh else \"black\")\n",
        "\n",
        "\n",
        "    plt.tight_layout()\n",
        "    plt.ylabel('True label')\n",
        "    \n",
        "    plt.show()"
      ],
      "execution_count": 2,
      "outputs": []
    },
    {
      "cell_type": "code",
      "metadata": {
        "id": "9HFKDDlKTLwK",
        "colab": {
          "base_uri": "https://localhost:8080/"
        },
        "outputId": "effc11f8-56e1-4948-c0dc-478eb2bfdf91"
      },
      "source": [
        "from google.colab import drive\n",
        "drive.mount('/content/drive')"
      ],
      "execution_count": 3,
      "outputs": [
        {
          "output_type": "stream",
          "name": "stdout",
          "text": [
            "Mounted at /content/drive\n"
          ]
        }
      ]
    },
    {
      "cell_type": "code",
      "metadata": {
        "id": "txxMG1gHTWd6"
      },
      "source": [
        "df = pd.read_csv('/content/drive/My Drive/concept_level_data.csv',encoding = \"utf-8\")"
      ],
      "execution_count": 4,
      "outputs": []
    },
    {
      "cell_type": "code",
      "metadata": {
        "id": "OKTmo8HJX_FR"
      },
      "source": [
        "X=df['Text']\n",
        "y=df['Sentiment']"
      ],
      "execution_count": 5,
      "outputs": []
    },
    {
      "cell_type": "markdown",
      "metadata": {
        "id": "77kXLEfDYc6x"
      },
      "source": [
        "# ***DATA ANALYSIS***"
      ]
    },
    {
      "cell_type": "code",
      "metadata": {
        "id": "LmEzSpTgYkJV",
        "colab": {
          "base_uri": "https://localhost:8080/",
          "height": 279
        },
        "outputId": "aedd7756-6682-466b-f2df-0e119d4999da"
      },
      "source": [
        "Sentiment_count=df.groupby('Sentiment').count()\n",
        "plt.bar(Sentiment_count.index.values, Sentiment_count['Text'])\n",
        "plt.xlabel('Review Sentiments')\n",
        "plt.ylabel('Number of Review')\n",
        "plt.show()"
      ],
      "execution_count": null,
      "outputs": [
        {
          "output_type": "display_data",
          "data": {
            "text/plain": [
              "<Figure size 432x288 with 1 Axes>"
            ],
            "image/png": "[encoded data removed]"
          },
          "metadata": {
            "needs_background": "light"
          }
        }
      ]
    },
    {
      "cell_type": "code",
      "metadata": {
        "id": "iV71RVvPYwiV",
        "colab": {
          "base_uri": "https://localhost:8080/",
          "height": 265
        },
        "outputId": "7c64b071-7270-4058-fb6b-89a2a01966df"
      },
      "source": [
        "df.Sentiment.value_counts().plot(kind='pie', autopct='%1.0f%%', colors=[\"red\", \"yellow\", \"green\"])"
      ],
      "execution_count": null,
      "outputs": [
        {
          "output_type": "execute_result",
          "data": {
            "text/plain": [
              "<matplotlib.axes._subplots.AxesSubplot at 0x7f4a32ec2690>"
            ]
          },
          "metadata": {},
          "execution_count": 8
        },
        {
          "output_type": "display_data",
          "data": {
            "text/plain": [
              "<Figure size 432x288 with 1 Axes>"
            ],
            "image/png": "[encoded data removed]"
          },
          "metadata": {}
        }
      ]
    },
    {
      "cell_type": "markdown",
      "metadata": {
        "id": "q4J0O4HObK-D"
      },
      "source": [
        "# ***Tfidf Vectorizer***"
      ]
    },
    {
      "cell_type": "code",
      "metadata": {
        "id": "6JrwsGcdbJXW"
      },
      "source": [
        "from sklearn.feature_extraction.text import TfidfVectorizer\n",
        "vectorizer = TfidfVectorizer()"
      ],
      "execution_count": 7,
      "outputs": []
    },
    {
      "cell_type": "code",
      "metadata": {
        "id": "ePA4xqPHe92-"
      },
      "source": [
        "from sklearn.model_selection import train_test_split\n",
        "X_train, X_test, y_train, y_test = train_test_split(X,y, test_size= 0.33, random_state = 42)\n",
        "X_train_tfidf = vectorizer.fit_transform(X_train)"
      ],
      "execution_count": 8,
      "outputs": []
    },
    {
      "cell_type": "markdown",
      "metadata": {
        "id": "XN89vxpYffbk"
      },
      "source": [
        "# ***SUPPORT VECTOR MACHINE (SVM)***"
      ]
    },
    {
      "cell_type": "code",
      "metadata": {
        "id": "GvRlRgt_fcWg"
      },
      "source": [
        "from sklearn.pipeline import Pipeline\n",
        "from sklearn.svm import LinearSVC\n",
        "clf = LinearSVC()\n",
        "clf.fit(X_train_tfidf,y_train)\n",
        "text_clf = Pipeline([('tfidf',TfidfVectorizer()),('clf',LinearSVC())])\n",
        "text_clf.fit(X_train,y_train)\n",
        "\n",
        "predictions = text_clf.predict(X_test)\n"
      ],
      "execution_count": null,
      "outputs": []
    },
    {
      "cell_type": "code",
      "metadata": {
        "id": "M7C8pGkmf0db",
        "colab": {
          "base_uri": "https://localhost:8080/"
        },
        "outputId": "07b3b9bc-92d2-4bf7-cfa5-0534bc8abc39"
      },
      "source": [
        "from sklearn.metrics import  confusion_matrix,classification_report\n",
        "print(confusion_matrix(y_test,predictions))\n"
      ],
      "execution_count": null,
      "outputs": [
        {
          "output_type": "stream",
          "name": "stdout",
          "text": [
            "[[ 98   7  95]\n",
            " [ 24   2  27]\n",
            " [ 67  10 265]]\n"
          ]
        }
      ]
    },
    {
      "cell_type": "code",
      "metadata": {
        "id": "AeHsB-k4XWJF",
        "colab": {
          "base_uri": "https://localhost:8080/",
          "height": 441
        },
        "outputId": "70296fd0-5d75-4375-914a-2be096b5c64b"
      },
      "source": [
        "plot_confusion_matrix(cm           = np.array([[ 98,   7 , 95],\n",
        "                                              [ 24 ,  2 , 27],\n",
        "                                              [  67 , 10, 265]]), \n",
        "                      normalize    = False,\n",
        "                      target_names = [ 'Negative', 'Neutral', 'Positive'],\n",
        "                      title        = \"Confusion Matrix, SVM\")"
      ],
      "execution_count": null,
      "outputs": [
        {
          "output_type": "display_data",
          "data": {
            "text/plain": [
              "<Figure size 576x432 with 2 Axes>"
            ],
            "image/png": "[encoded data removed]"
          },
          "metadata": {
            "needs_background": "light"
          }
        }
      ]
    },
    {
      "cell_type": "code",
      "metadata": {
        "id": "UeVULu2xf4_j",
        "colab": {
          "base_uri": "https://localhost:8080/"
        },
        "outputId": "0cfa9ff8-0c00-49fb-e5a6-08f42b960416"
      },
      "source": [
        "print(classification_report(y_test,predictions))"
      ],
      "execution_count": null,
      "outputs": [
        {
          "output_type": "stream",
          "name": "stdout",
          "text": [
            "              precision    recall  f1-score   support\n",
            "\n",
            "    Negative       0.52      0.49      0.50       200\n",
            "     Neutral       0.11      0.04      0.06        53\n",
            "    Positive       0.68      0.77      0.73       342\n",
            "\n",
            "    accuracy                           0.61       595\n",
            "   macro avg       0.44      0.43      0.43       595\n",
            "weighted avg       0.58      0.61      0.59       595\n",
            "\n"
          ]
        }
      ]
    },
    {
      "cell_type": "code",
      "metadata": {
        "id": "xeNzyYeFf-AT",
        "colab": {
          "base_uri": "https://localhost:8080/"
        },
        "outputId": "ce9ce2ad-5e82-4f68-ef61-85c53771bce9"
      },
      "source": [
        "from sklearn import metrics\n",
        "metrics.accuracy_score(y_test,predictions)*100"
      ],
      "execution_count": null,
      "outputs": [
        {
          "output_type": "execute_result",
          "data": {
            "text/plain": [
              "61.34453781512605"
            ]
          },
          "metadata": {},
          "execution_count": 15
        }
      ]
    },
    {
      "cell_type": "markdown",
      "metadata": {
        "id": "jgEFLDMYhLfL"
      },
      "source": [
        "# ***RANDOM FOREST***"
      ]
    },
    {
      "cell_type": "code",
      "metadata": {
        "id": "mVc3wAa6goxp"
      },
      "source": [
        "from sklearn.pipeline import Pipeline\n",
        "from sklearn.ensemble import RandomForestClassifier\n",
        "clf =RandomForestClassifier()\n",
        "clf.fit(X_train_tfidf,y_train)\n",
        "text_clf = Pipeline([('tfidf',TfidfVectorizer()),('clf',RandomForestClassifier())])\n",
        "text_clf.fit(X_train,y_train)\n",
        "\n",
        "predictions = text_clf.predict(X_test)"
      ],
      "execution_count": null,
      "outputs": []
    },
    {
      "cell_type": "code",
      "metadata": {
        "id": "jWPEGiI_grpq",
        "colab": {
          "base_uri": "https://localhost:8080/"
        },
        "outputId": "72eb636a-a162-45d9-9499-484d764a2e3d"
      },
      "source": [
        "from sklearn.metrics import  confusion_matrix,classification_report\n",
        "print(confusion_matrix(y_test,predictions))"
      ],
      "execution_count": null,
      "outputs": [
        {
          "output_type": "stream",
          "name": "stdout",
          "text": [
            "[[121   2  77]\n",
            " [ 21   0  32]\n",
            " [111   2 229]]\n"
          ]
        }
      ]
    },
    {
      "cell_type": "code",
      "metadata": {
        "id": "iBKfyF8oXplM",
        "colab": {
          "base_uri": "https://localhost:8080/",
          "height": 441
        },
        "outputId": "6bc83e2f-2c16-424f-8519-fc4f80e27332"
      },
      "source": [
        "plot_confusion_matrix(cm           = np.array([[120,   1,  79],\n",
        "                                              [ 24,   0,  29],\n",
        "                                              [ 118,   2, 222]]), \n",
        "                      normalize    = False,\n",
        "                      target_names = [ 'Negative', 'Neutral', 'Positive'],\n",
        "                      title        = \"Confusion Matrix, RandomForest\")"
      ],
      "execution_count": null,
      "outputs": [
        {
          "output_type": "display_data",
          "data": {
            "text/plain": [
              "<Figure size 576x432 with 2 Axes>"
            ],
            "image/png": "[encoded data removed]"
          },
          "metadata": {
            "needs_background": "light"
          }
        }
      ]
    },
    {
      "cell_type": "code",
      "metadata": {
        "id": "QMcMM2prgvnz",
        "colab": {
          "base_uri": "https://localhost:8080/"
        },
        "outputId": "82357e5f-4969-48ea-f64c-eac57e9a410d"
      },
      "source": [
        "print(classification_report(y_test,predictions))"
      ],
      "execution_count": null,
      "outputs": [
        {
          "output_type": "stream",
          "name": "stdout",
          "text": [
            "              precision    recall  f1-score   support\n",
            "\n",
            "    Negative       0.48      0.60      0.53       200\n",
            "     Neutral       0.00      0.00      0.00        53\n",
            "    Positive       0.68      0.67      0.67       342\n",
            "\n",
            "    accuracy                           0.59       595\n",
            "   macro avg       0.39      0.42      0.40       595\n",
            "weighted avg       0.55      0.59      0.57       595\n",
            "\n"
          ]
        }
      ]
    },
    {
      "cell_type": "code",
      "metadata": {
        "id": "gLvq23X3gzyG",
        "colab": {
          "base_uri": "https://localhost:8080/"
        },
        "outputId": "95c2d2de-b085-4b38-cf0c-1c2cd8483764"
      },
      "source": [
        "from sklearn import metrics\n",
        "metrics.accuracy_score(y_test,predictions)*100\n"
      ],
      "execution_count": null,
      "outputs": [
        {
          "output_type": "execute_result",
          "data": {
            "text/plain": [
              "58.82352941176471"
            ]
          },
          "metadata": {},
          "execution_count": 25
        }
      ]
    },
    {
      "cell_type": "markdown",
      "metadata": {
        "id": "YavIGtxijpf4"
      },
      "source": [
        "# ***NAIVE BAYES***"
      ]
    },
    {
      "cell_type": "code",
      "metadata": {
        "id": "YJLtxc0eg4SK"
      },
      "source": [
        "from sklearn.pipeline import Pipeline\n",
        "from sklearn.naive_bayes import MultinomialNB\n",
        "clf = MultinomialNB()\n",
        "clf.fit(X_train_tfidf,y_train)\n",
        "text_clf = Pipeline([('tfidf',TfidfVectorizer()),('clf',MultinomialNB())])\n",
        "text_clf.fit(X_train,y_train)\n",
        "\n",
        "predictions = text_clf.predict(X_test)"
      ],
      "execution_count": null,
      "outputs": []
    },
    {
      "cell_type": "code",
      "metadata": {
        "id": "TosD-Dmpg79t",
        "colab": {
          "base_uri": "https://localhost:8080/",
          "height": 68
        },
        "outputId": "8d5e8088-127f-404c-92b8-3704e3dfa2f8"
      },
      "source": [
        "from sklearn.metrics import  confusion_matrix,classification_report\n",
        "print(confusion_matrix(y_test,predictions))"
      ],
      "execution_count": null,
      "outputs": [
        {
          "output_type": "stream",
          "text": [
            "[[ 60   0 140]\n",
            " [ 13   0  40]\n",
            " [ 19   0 323]]\n"
          ],
          "name": "stdout"
        }
      ]
    },
    {
      "cell_type": "code",
      "metadata": {
        "id": "fZyucYlzYFAz",
        "colab": {
          "base_uri": "https://localhost:8080/",
          "height": 441
        },
        "outputId": "c748c3ea-f6cb-4a00-ffb5-b0da82c52c93"
      },
      "source": [
        "plot_confusion_matrix(cm           = np.array([[ 60,   0, 140],\n",
        "                                              [ 13,   0,  40],\n",
        "                                              [ 19,   0, 323]]), \n",
        "                      normalize    = False,\n",
        "                      target_names = [ 'Negative', 'Neutral', 'Positive'],\n",
        "                      title        = \"Confusion Matrix, MultinomialNB\")"
      ],
      "execution_count": null,
      "outputs": [
        {
          "output_type": "display_data",
          "data": {
            "image/png": "[encoded data removed]",
            "text/plain": [
              "<Figure size 576x432 with 2 Axes>"
            ]
          },
          "metadata": {
            "tags": [],
            "needs_background": "light"
          }
        }
      ]
    },
    {
      "cell_type": "code",
      "metadata": {
        "id": "c90UFG-0g_2F",
        "colab": {
          "base_uri": "https://localhost:8080/",
          "height": 241
        },
        "outputId": "13bb329e-318d-4bf7-c7cd-340a0e7b4dd9"
      },
      "source": [
        "print(classification_report(y_test,predictions))"
      ],
      "execution_count": null,
      "outputs": [
        {
          "output_type": "stream",
          "text": [
            "              precision    recall  f1-score   support\n",
            "\n",
            "    Negative       0.65      0.30      0.41       200\n",
            "     Neutral       0.00      0.00      0.00        53\n",
            "    Positive       0.64      0.94      0.76       342\n",
            "\n",
            "    accuracy                           0.64       595\n",
            "   macro avg       0.43      0.41      0.39       595\n",
            "weighted avg       0.59      0.64      0.58       595\n",
            "\n"
          ],
          "name": "stdout"
        },
        {
          "output_type": "stream",
          "text": [
            "/usr/local/lib/python3.6/dist-packages/sklearn/metrics/_classification.py:1272: UndefinedMetricWarning: Precision and F-score are ill-defined and being set to 0.0 in labels with no predicted samples. Use `zero_division` parameter to control this behavior.\n",
            "  _warn_prf(average, modifier, msg_start, len(result))\n"
          ],
          "name": "stderr"
        }
      ]
    },
    {
      "cell_type": "code",
      "metadata": {
        "id": "Zw5XG_hOhDpw",
        "colab": {
          "base_uri": "https://localhost:8080/",
          "height": 34
        },
        "outputId": "3c1fd5dd-80bf-43f8-9487-9e53980ed17a"
      },
      "source": [
        "from sklearn import metrics\n",
        "metrics.accuracy_score(y_test,predictions)*100"
      ],
      "execution_count": null,
      "outputs": [
        {
          "output_type": "execute_result",
          "data": {
            "text/plain": [
              "64.36974789915966"
            ]
          },
          "metadata": {
            "tags": []
          },
          "execution_count": 18
        }
      ]
    },
    {
      "cell_type": "markdown",
      "metadata": {
        "id": "2NlsPjfo5KKv"
      },
      "source": [
        "# ***DECISSION TREE***"
      ]
    },
    {
      "cell_type": "code",
      "metadata": {
        "id": "l5Ps8Sf63nBN"
      },
      "source": [
        "from sklearn.pipeline import Pipeline\n",
        "from sklearn.tree import DecisionTreeClassifier\n",
        "clf = DecisionTreeClassifier()\n",
        "clf.fit(X_train_tfidf,y_train)\n",
        "text_clf = Pipeline([('tfidf',TfidfVectorizer()),('clf',DecisionTreeClassifier())])\n",
        "text_clf.fit(X_train,y_train)\n",
        "\n",
        "predictions = text_clf.predict(X_test)"
      ],
      "execution_count": null,
      "outputs": []
    },
    {
      "cell_type": "code",
      "metadata": {
        "id": "YqJX2LbG45Fc",
        "colab": {
          "base_uri": "https://localhost:8080/",
          "height": 68
        },
        "outputId": "6d280421-40a2-4196-f8f3-ab59ad6170cd"
      },
      "source": [
        "from sklearn.metrics import  confusion_matrix,classification_report\n",
        "print(confusion_matrix(y_test,predictions))"
      ],
      "execution_count": null,
      "outputs": [
        {
          "output_type": "stream",
          "text": [
            "[[121   8  71]\n",
            " [ 21   5  27]\n",
            " [135  20 187]]\n"
          ],
          "name": "stdout"
        }
      ]
    },
    {
      "cell_type": "code",
      "metadata": {
        "id": "C4jJb3qvYpFp",
        "colab": {
          "base_uri": "https://localhost:8080/",
          "height": 441
        },
        "outputId": "4d6b7ee8-c09f-43c4-ede4-a65a60425618"
      },
      "source": [
        "plot_confusion_matrix(cm           = np.array([[121,  8,  71],\n",
        "                                              [ 21,   5,  27],\n",
        "                                              [ 135,  20, 187]]), \n",
        "                      normalize    = False,\n",
        "                      target_names = [ 'Negative', 'Neutral', 'Positive'],\n",
        "                      title        = \"Confusion Matrix,DecisionTree\")"
      ],
      "execution_count": null,
      "outputs": [
        {
          "output_type": "display_data",
          "data": {
            "image/png": "[encoded data removed]",
            "text/plain": [
              "<Figure size 576x432 with 2 Axes>"
            ]
          },
          "metadata": {
            "tags": [],
            "needs_background": "light"
          }
        }
      ]
    },
    {
      "cell_type": "code",
      "metadata": {
        "id": "GDTvaU2b4-KM",
        "colab": {
          "base_uri": "https://localhost:8080/",
          "height": 187
        },
        "outputId": "bae44115-8525-44e3-bba2-556b19e8b194"
      },
      "source": [
        "print(classification_report(y_test,predictions))"
      ],
      "execution_count": null,
      "outputs": [
        {
          "output_type": "stream",
          "text": [
            "              precision    recall  f1-score   support\n",
            "\n",
            "    Negative       0.44      0.60      0.51       200\n",
            "     Neutral       0.15      0.09      0.12        53\n",
            "    Positive       0.66      0.55      0.60       342\n",
            "\n",
            "    accuracy                           0.53       595\n",
            "   macro avg       0.41      0.42      0.41       595\n",
            "weighted avg       0.54      0.53      0.52       595\n",
            "\n"
          ],
          "name": "stdout"
        }
      ]
    },
    {
      "cell_type": "code",
      "metadata": {
        "id": "Qo1hfVyV5B_7",
        "colab": {
          "base_uri": "https://localhost:8080/",
          "height": 34
        },
        "outputId": "17721d13-20ad-4ea6-e006-849e08e82dec"
      },
      "source": [
        "from sklearn import metrics\n",
        "metrics.accuracy_score(y_test,predictions)*100"
      ],
      "execution_count": null,
      "outputs": [
        {
          "output_type": "execute_result",
          "data": {
            "text/plain": [
              "52.60504201680673"
            ]
          },
          "metadata": {
            "tags": []
          },
          "execution_count": 37
        }
      ]
    },
    {
      "cell_type": "markdown",
      "metadata": {
        "id": "bpeF7_666XEI"
      },
      "source": [
        "# ***KNN***"
      ]
    },
    {
      "cell_type": "code",
      "metadata": {
        "id": "zVp3Nd1C55Gu"
      },
      "source": [
        "from sklearn.pipeline import Pipeline\n",
        "from sklearn.neighbors import KNeighborsClassifier\n",
        "clf = KNeighborsClassifier()\n",
        "clf.fit(X_train_tfidf,y_train)\n",
        "text_clf = Pipeline([('tfidf',TfidfVectorizer()),('clf',KNeighborsClassifier())])\n",
        "text_clf.fit(X_train,y_train)\n",
        "\n",
        "predictions = text_clf.predict(X_test)\n"
      ],
      "execution_count": 9,
      "outputs": []
    },
    {
      "cell_type": "code",
      "metadata": {
        "id": "ayW7zTfh6HPa",
        "colab": {
          "base_uri": "https://localhost:8080/"
        },
        "outputId": "82bb6351-5697-4831-c2cc-3dee34c0cde1"
      },
      "source": [
        "from sklearn.metrics import  confusion_matrix,classification_report\n",
        "print(confusion_matrix(y_test,predictions))"
      ],
      "execution_count": 10,
      "outputs": [
        {
          "output_type": "stream",
          "name": "stdout",
          "text": [
            "[[188   1  11]\n",
            " [ 52   0   1]\n",
            " [281   3  58]]\n"
          ]
        }
      ]
    },
    {
      "cell_type": "code",
      "metadata": {
        "id": "x9kzuD8meNDU",
        "colab": {
          "base_uri": "https://localhost:8080/",
          "height": 441
        },
        "outputId": "43908653-aaff-488b-d332-4c29a7fbbf3b"
      },
      "source": [
        "plot_confusion_matrix(cm           = np.array([[124,   6,  70],\n",
        "                                              [  21 ,  3,   29],\n",
        "                                              [ 134,   19 , 189]]), \n",
        "                      normalize    = False,\n",
        "                      target_names = [ 'Negative', 'Neutral', 'Positive'],\n",
        "                      title        = \"Confusion Matrix, KNeighbors\")"
      ],
      "execution_count": 11,
      "outputs": [
        {
          "output_type": "display_data",
          "data": {
            "text/plain": [
              "<Figure size 576x432 with 2 Axes>"
            ],
            "image/png": "[encoded data removed]"
          },
          "metadata": {
            "needs_background": "light"
          }
        }
      ]
    },
    {
      "cell_type": "code",
      "metadata": {
        "id": "GVSKUp_e6LRx",
        "colab": {
          "base_uri": "https://localhost:8080/"
        },
        "outputId": "64ce62a9-bedb-4fad-d4ef-d7e1da1b0f05"
      },
      "source": [
        "print(classification_report(y_test,predictions))"
      ],
      "execution_count": 12,
      "outputs": [
        {
          "output_type": "stream",
          "name": "stdout",
          "text": [
            "              precision    recall  f1-score   support\n",
            "\n",
            "    Negative       0.36      0.94      0.52       200\n",
            "     Neutral       0.00      0.00      0.00        53\n",
            "    Positive       0.83      0.17      0.28       342\n",
            "\n",
            "    accuracy                           0.41       595\n",
            "   macro avg       0.40      0.37      0.27       595\n",
            "weighted avg       0.60      0.41      0.34       595\n",
            "\n"
          ]
        }
      ]
    },
    {
      "cell_type": "code",
      "metadata": {
        "id": "vgvQNQOt6Qkt",
        "colab": {
          "base_uri": "https://localhost:8080/"
        },
        "outputId": "bfe4d4c0-f1f9-4524-8ba4-8ab7fadf0960"
      },
      "source": [
        "from sklearn import metrics\n",
        "metrics.accuracy_score(y_test,predictions)*100"
      ],
      "execution_count": 13,
      "outputs": [
        {
          "output_type": "execute_result",
          "data": {
            "text/plain": [
              "41.344537815126046"
            ]
          },
          "metadata": {},
          "execution_count": 13
        }
      ]
    }
  ]
}